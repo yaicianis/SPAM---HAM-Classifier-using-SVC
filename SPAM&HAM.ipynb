{
 "cells": [
  {
   "cell_type": "code",
   "execution_count": 6,
   "metadata": {},
   "outputs": [
    {
     "name": "stdout",
     "output_type": "stream",
     "text": [
      "       Label               EmailText\n",
      "count   5572                    5572\n",
      "unique     2                    5169\n",
      "top      ham  Sorry, I'll call later\n",
      "freq    4825                      30\n"
     ]
    }
   ],
   "source": [
    "import numpy as np\n",
    "import pandas as pd\n",
    "\n",
    "\n",
    "#load the data\n",
    "dataframe=pd.read_csv('C:\\\\Users\\\\yaici\\\\OneDrive\\\\Bureau\\\\SPAM & HAM Classifier using SVC\\\\spam.csv')\n",
    "print(dataframe.describe())"
   ]
  },
  {
   "cell_type": "code",
   "execution_count": 10,
   "metadata": {},
   "outputs": [],
   "source": [
    "# create the train & test data\n",
    "y=dataframe['Label']\n",
    "x=dataframe['EmailText']\n",
    "\n",
    "x_train,y_train= x[0:4500], y[0:4500]\n",
    "x_test , y_test=x[4500:],y[4500:]"
   ]
  },
  {
   "cell_type": "markdown",
   "metadata": {},
   "source": [
    "support Vector Classification "
   ]
  },
  {
   "cell_type": "code",
   "execution_count": 23,
   "metadata": {},
   "outputs": [
    {
     "name": "stdout",
     "output_type": "stream",
     "text": [
      "The accuracy on the test set is: 98.69%\n"
     ]
    }
   ],
   "source": [
    "from sklearn.feature_extraction.text import CountVectorizer\n",
    "from sklearn.svm import SVC\n",
    "from sklearn.metrics import accuracy_score\n",
    "\n",
    "\n",
    "# Create and fit the CountVectorizer on the training data\n",
    "count_vectorizer = CountVectorizer()\n",
    "train_features = count_vectorizer.fit_transform(x_train)\n",
    "\n",
    "# Transform the test data using the same CountVectorizer\n",
    "test_features = count_vectorizer.transform(x_test)\n",
    "\n",
    "# Create and train the SVM model\n",
    "model = SVC()\n",
    "model.fit(train_features, y_train)\n",
    "\n",
    "# Evaluate the model on the test data\n",
    "score = model.score(test_features, y_test)\n",
    "print(f\"The accuracy on the test set is: {score * 100:.2f}%\")\n"
   ]
  },
  {
   "cell_type": "markdown",
   "metadata": {},
   "source": [
    "pratical example fr testing"
   ]
  },
  {
   "cell_type": "code",
   "execution_count": 24,
   "metadata": {},
   "outputs": [
    {
     "name": "stdout",
     "output_type": "stream",
     "text": [
      "the mail text: ['Mobile Club: Choose any of the top quality items for your mobile. 7cfca1a']\n",
      "the predicted label ['spam']\n",
      "the real label ['spam']\n"
     ]
    }
   ],
   "source": [
    "def predict_sample(index):\n",
    "    sample = count_vectorizer.transform(x_test[index:1+index])\n",
    "    print('the mail text:',list(x_test[index:1+index]))\n",
    "    predict=model.predict(sample)\n",
    "    print('the predicted label',predict)\n",
    "    print('the real label',list(y_test[index:1+index]))\n",
    "\n",
    "predict_sample(4)"
   ]
  }
 ],
 "metadata": {
  "kernelspec": {
   "display_name": "base",
   "language": "python",
   "name": "python3"
  },
  "language_info": {
   "codemirror_mode": {
    "name": "ipython",
    "version": 3
   },
   "file_extension": ".py",
   "mimetype": "text/x-python",
   "name": "python",
   "nbconvert_exporter": "python",
   "pygments_lexer": "ipython3",
   "version": "3.11.5"
  }
 },
 "nbformat": 4,
 "nbformat_minor": 2
}
